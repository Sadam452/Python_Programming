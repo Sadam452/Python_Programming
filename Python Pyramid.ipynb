{
 "cells": [
  {
   "cell_type": "code",
   "execution_count": 13,
   "metadata": {},
   "outputs": [
    {
     "name": "stdout",
     "output_type": "stream",
     "text": [
      "Python Assignment---------------------------------------------------\n",
      "Enter number of rows = 7\n",
      "7 6 5 4 3 2 1 \n",
      "6 5 4 3 2 1 \n",
      "5 4 3 2 1 \n",
      "4 3 2 1 \n",
      "3 2 1 \n",
      "2 1 \n",
      "1 \n"
     ]
    }
   ],
   "source": [
    "#Python Pyramid... Classwork... @CSE-18-14\n",
    "print(\"Python Assignment---------------------------------------------------\")\n",
    "rows = input(\"Enter number of rows = \")\n",
    "rows = int(rows)\n",
    "for i in range(1,rows+1):\n",
    "    for j in range(rows,i-1,-1):\n",
    "        print(j-i+1,end=\" \")\n",
    "    print(\"\")"
   ]
  }
 ],
 "metadata": {
  "kernelspec": {
   "display_name": "Python 3",
   "language": "python",
   "name": "python3"
  },
  "language_info": {
   "codemirror_mode": {
    "name": "ipython",
    "version": 3
   },
   "file_extension": ".py",
   "mimetype": "text/x-python",
   "name": "python",
   "nbconvert_exporter": "python",
   "pygments_lexer": "ipython3",
   "version": "3.8.5"
  }
 },
 "nbformat": 4,
 "nbformat_minor": 4
}
