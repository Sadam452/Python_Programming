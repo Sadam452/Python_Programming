{
 "cells": [
  {
   "cell_type": "markdown",
   "metadata": {},
   "source": [
    "<b>Roll Number : CSE-18-14<br>Name: Sadam Hussain<br> Assignment: Lambda Functions<br>Submission Date: 16-02-2022</b>\n",
    "<h3><mark>LAMBDA FUNCTION</mark></h3>"
   ]
  },
  {
   "cell_type": "markdown",
   "metadata": {},
   "source": [
    "<i>A lambda function is a small anonymous function. It can take any number of arguments, but can only have one expression.</i>\n",
    "<br><b>Syntax:-</b> <u>lambda arguments : expression</u>\n"
   ]
  },
  {
   "cell_type": "code",
   "execution_count": 1,
   "metadata": {},
   "outputs": [
    {
     "name": "stdout",
     "output_type": "stream",
     "text": [
      "36\n"
     ]
    }
   ],
   "source": [
    "#Example\n",
    "x = lambda a: a*a\n",
    "print(x(6))\n",
    "#prints square of number"
   ]
  },
  {
   "cell_type": "markdown",
   "metadata": {},
   "source": [
    "<b>Why Do We Use Lambda Functions?</b><br>\n",
    "Lambda functions are used when we need a function for a short period of time. This is commonly used when we want to pass a function as an argument to higher-order functions, that is, functions that take other functions as their arguments."
   ]
  },
  {
   "cell_type": "code",
   "execution_count": 3,
   "metadata": {},
   "outputs": [
    {
     "name": "stdout",
     "output_type": "stream",
     "text": [
      "[1, 1, 0, 0, 0, 1, 1, 1, 0, 1, 0, 1, 0]\n"
     ]
    }
   ],
   "source": [
    "#example\n",
    "list1 = [1,3,4,6,8,7,9,23,12,45,44,67,68]\n",
    "list_map = list(map(lambda a: a % 2, list1))\n",
    "print(list_map)"
   ]
  },
  {
   "cell_type": "markdown",
   "metadata": {},
   "source": [
    "In the example above, we have a list <i>list1</i>, which consists of random numbers. We then call the map() function and pass it a lambda function as the argument. The lambda function calculates the remainder after dividing each number by 2. The result of the mapping is stored in a list named <i>list_map</i>. Finally, we print out the contents of the list."
   ]
  },
  {
   "cell_type": "code",
   "execution_count": 5,
   "metadata": {},
   "outputs": [
    {
     "name": "stdout",
     "output_type": "stream",
     "text": [
      "14\n"
     ]
    }
   ],
   "source": [
    "#Example 3\n",
    "def func(tmp):\n",
    "    return lambda a:a+tmp\n",
    "\n",
    "result = func(10)\n",
    "print(result(4)) #will print 4+10 =14"
   ]
  },
  {
   "cell_type": "code",
   "execution_count": 6,
   "metadata": {},
   "outputs": [
    {
     "name": "stdout",
     "output_type": "stream",
     "text": [
      "30\n",
      "40\n"
     ]
    }
   ],
   "source": [
    "#Example 4\n",
    "def func1(n):\n",
    "  return lambda a : a * n\n",
    "\n",
    "tripler = func1(3)\n",
    "print(tripler(10))\n",
    "quadruplar = func1(4)\n",
    "print(quadruplar(10))"
   ]
  },
  {
   "cell_type": "markdown",
   "metadata": {},
   "source": [
    "<b>Characteristics of Lambda Function</b><br>\n",
    "<ul>\n",
    "    <li>The lambda function can take many arguments but can return only one expression. Here the expression is nothing but the result returned by the lambda function.</li>\n",
    "    <li>Lambda functions are syntactically restricted to return a single expression.</li>\n",
    "    <li>You can use them as an anonymous function inside other functions.</li>\n",
    "    <li>The lambda functions do not need a return statement, they always return a single expression.</li>\n",
    "</ul>"
   ]
  }
 ],
 "metadata": {
  "kernelspec": {
   "display_name": "Python 3",
   "language": "python",
   "name": "python3"
  },
  "language_info": {
   "codemirror_mode": {
    "name": "ipython",
    "version": 3
   },
   "file_extension": ".py",
   "mimetype": "text/x-python",
   "name": "python",
   "nbconvert_exporter": "python",
   "pygments_lexer": "ipython3",
   "version": "3.8.5"
  }
 },
 "nbformat": 4,
 "nbformat_minor": 4
}
