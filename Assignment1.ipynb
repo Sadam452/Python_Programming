{
 "cells": [
  {
   "cell_type": "code",
   "execution_count": 13,
   "metadata": {},
   "outputs": [
    {
     "data": {
      "text/plain": [
       "['Sadam', 2, 3, 4]"
      ]
     },
     "execution_count": 13,
     "metadata": {},
     "output_type": "execute_result"
    }
   ],
   "source": [
    "##Demonstration of various data structures in python\n",
    "##Program by Sadam @ CSE-18-14\n",
    "list1 = [1,2,3,4]\n",
    "list1[0] = 'Sadam'\n",
    "list1"
   ]
  },
  {
   "cell_type": "code",
   "execution_count": 6,
   "metadata": {},
   "outputs": [
    {
     "name": "stdout",
     "output_type": "stream",
     "text": [
      "[1, 2, 3, [4, 5, 6], 7]\n",
      "1 | [4, 5, 6] | 5\n"
     ]
    }
   ],
   "source": [
    "nestedList = [1,2,3,[4,5,6],7]\n",
    "print(nestedList)\n",
    "print(nestedList[0],'|',nestedList[3],'|',nestedList[3][1])"
   ]
  },
  {
   "cell_type": "code",
   "execution_count": 15,
   "metadata": {},
   "outputs": [
    {
     "data": {
      "text/plain": [
       "{'a': 1, 'b': 'Replaced'}"
      ]
     },
     "execution_count": 15,
     "metadata": {},
     "output_type": "execute_result"
    }
   ],
   "source": [
    "dictionary = {'a':1,'b':2}\n",
    "dictionary['b']='Replaced'\n",
    "dictionary"
   ]
  },
  {
   "cell_type": "code",
   "execution_count": 8,
   "metadata": {},
   "outputs": [
    {
     "name": "stdout",
     "output_type": "stream",
     "text": [
      "{'a': 1, 'b': 2, 'c': {'s': 12, 'h': 13}, 'd': 4}\n",
      "1 | {'s': 12, 'h': 13} | 13\n"
     ]
    }
   ],
   "source": [
    "nestedDictionary = {'a':1,'b':2,'c':{'s':12,'h':13},'d':4}\n",
    "print(nestedDictionary)\n",
    "print(nestedDictionary['a'],'|',nestedDictionary['c'],'|',nestedDictionary['c']['h'])"
   ]
  },
  {
   "cell_type": "code",
   "execution_count": 17,
   "metadata": {},
   "outputs": [
    {
     "name": "stdout",
     "output_type": "stream",
     "text": [
      "4\n"
     ]
    }
   ],
   "source": [
    "Tuple = (1,2,3,4,5,6)\n",
    "print(Tuple[3])\n",
    "#Tuple[2] = 4  # Error"
   ]
  },
  {
   "cell_type": "code",
   "execution_count": 20,
   "metadata": {},
   "outputs": [
    {
     "name": "stdout",
     "output_type": "stream",
     "text": [
      "{1, 2, 3, 4, 5, 6, 7}\n",
      "{1, 2, 3, 4, 5, 6, 7, 101}\n"
     ]
    }
   ],
   "source": [
    "Set = {1,2,3,4,4,4,4,5,6,7,7,7,7,7}\n",
    "#Set[0] error\n",
    "#Set[1]=7 error\n",
    "print(Set)\n",
    "Set.add(101)\n",
    "print(Set)"
   ]
  },
  {
   "cell_type": "code",
   "execution_count": 23,
   "metadata": {},
   "outputs": [
    {
     "name": "stdout",
     "output_type": "stream",
     "text": [
      "Late or Early ?Early\n",
      "Great, you have a time so Cook your food by your own!\n"
     ]
    }
   ],
   "source": [
    "choice = input(\"Late or Early ?\")\n",
    "if choice=='Late':\n",
    "    print('Order you meals.')\n",
    "elif choice=='Early':\n",
    "    print('Great, you have a time so Cook your food by your own!')\n",
    "else:\n",
    "    print(\"Looks like you are confused, Have a good time.\")"
   ]
  },
  {
   "cell_type": "code",
   "execution_count": 24,
   "metadata": {},
   "outputs": [
    {
     "name": "stdout",
     "output_type": "stream",
     "text": [
      "yes\n"
     ]
    }
   ],
   "source": [
    "x=1\n",
    "y=2\n",
    "if x==1 or y==10:\n",
    "    print('yes')"
   ]
  },
  {
   "cell_type": "code",
   "execution_count": 25,
   "metadata": {},
   "outputs": [
    {
     "name": "stdout",
     "output_type": "stream",
     "text": [
      "No\n"
     ]
    }
   ],
   "source": [
    "x=1\n",
    "y=2\n",
    "if x==1 and y==10:\n",
    "    print('yes')\n",
    "else:\n",
    "    print('No')"
   ]
  }
 ],
 "metadata": {
  "kernelspec": {
   "display_name": "Python 3",
   "language": "python",
   "name": "python3"
  },
  "language_info": {
   "codemirror_mode": {
    "name": "ipython",
    "version": 3
   },
   "file_extension": ".py",
   "mimetype": "text/x-python",
   "name": "python",
   "nbconvert_exporter": "python",
   "pygments_lexer": "ipython3",
   "version": "3.8.5"
  }
 },
 "nbformat": 4,
 "nbformat_minor": 4
}
