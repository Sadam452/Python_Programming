{
 "cells": [
  {
   "cell_type": "markdown",
   "metadata": {},
   "source": [
    "*PYTHON ASSIGNMENT ON IF-ELSE LADDER*\n",
    "# Name:              Sadam Hussain\n",
    "# Roll Number:   CSE-18-14\n",
    "# Semester:        7th\n",
    "*SUBMITTED ON 25-01-2022."
   ]
  },
  {
   "cell_type": "code",
   "execution_count": 20,
   "metadata": {},
   "outputs": [
    {
     "name": "stdout",
     "output_type": "stream",
     "text": [
      "******************A Program By Sadam @CSE-18-14********************\n",
      "Please Enter Your Marks :62\n",
      "You Got C Grade\n"
     ]
    }
   ],
   "source": [
    "# Write a program to accept percentage from the user and display the grade\n",
    "print(\"******************A Program By Sadam @CSE-18-14********************\")\n",
    "Marks = int(input(\"Please Enter Your Marks :\"))\n",
    "if Marks < 0 or Marks >100:\n",
    "    print(\"Please Enter Valid Marks.\")\n",
    "elif Marks > 90:\n",
    "    print(\"You Got O Grade\")\n",
    "elif Marks > 80:\n",
    "    print(\"You Got A Grade\")\n",
    "elif Marks > 70:\n",
    "    print(\"You Got B Grade\")\n",
    "elif Marks > 60:\n",
    "    print(\"You Got C Grade\")\n",
    "else:\n",
    "    print(\"You Got D Grade\")"
   ]
  },
  {
   "cell_type": "code",
   "execution_count": 12,
   "metadata": {},
   "outputs": [
    {
     "name": "stdout",
     "output_type": "stream",
     "text": [
      "Enter the price of bike: 50002\n",
      "Tax to be paid =  5000.200000000001\n"
     ]
    }
   ],
   "source": [
    "#Write a program to accept the cost price of a bike and display the road tax to be paid:\n",
    "tax = 0\n",
    "price=int(input(\"Enter the price of bike: \"))\n",
    "if price > 100000:\n",
    "    tax = 15/100*price\n",
    "elif price >50000:\n",
    "    tax = 10/100*price\n",
    "else:\n",
    "    tax = 5/100*price\n",
    "print(\"Tax to be paid = \",tax)"
   ]
  },
  {
   "cell_type": "code",
   "execution_count": 15,
   "metadata": {},
   "outputs": [
    {
     "name": "stdout",
     "output_type": "stream",
     "text": [
      "Enter any year to check: 2017\n",
      "2017  year is not a leap year\n"
     ]
    }
   ],
   "source": [
    "#Write a program to check whether an years is leap year or not:\n",
    "year=int(input(\"Enter any year to check: \"))\n",
    "if year%100==0:\n",
    "    if year%400==0:\n",
    "        print(year,\" year is leap year\")\n",
    "    else:\n",
    "        print(year,\" year is not a leap year\")\n",
    "else:\n",
    "    if year%4==0:\n",
    "        print(year,\" year is leap year\")\n",
    "    else:\n",
    "        print(year,\" year is not a leap year\")"
   ]
  },
  {
   "cell_type": "code",
   "execution_count": 17,
   "metadata": {},
   "outputs": [
    {
     "name": "stdout",
     "output_type": "stream",
     "text": [
      "Enter any number between 1 to 7 : 4\n",
      "Wednesday\n"
     ]
    }
   ],
   "source": [
    "#Write a program to accept a number from 1 to 7 and display the name of the day\n",
    "day = int(input(\"Enter any number between 1 to 7 : \"))\n",
    "if day==1:\n",
    "    print(\"Sunday\")\n",
    "elif day==2:\n",
    "    print(\"Monday\")\n",
    "elif day==3:\n",
    "    print(\"Tuesday\")\n",
    "elif day==4:\n",
    "    print(\"Wednesday\")\n",
    "elif day==5:\n",
    "    print(\"Thursday\")\n",
    "elif day==6:\n",
    "    print(\"Friday\")\n",
    "elif day==7:\n",
    "    print(\"Saturday\")\n",
    "else:\n",
    "    print(\"Please enter a number between 1 to 7 :)\")"
   ]
  },
  {
   "cell_type": "code",
   "execution_count": 19,
   "metadata": {},
   "outputs": [
    {
     "name": "stdout",
     "output_type": "stream",
     "text": [
      "Enter any number between 1 to 12 : 5\n",
      "May 31 days\n"
     ]
    }
   ],
   "source": [
    "#Write a program to accept a number from 1 to 12 and display name of the month and days in that month\n",
    "Month = int(input(\"Enter any number between 1 to 12 : \"))\n",
    "if Month == 1:\n",
    "    print(\"January 31 days\")\n",
    "elif Month == 2:\n",
    "    print(\"February 28 or 29 days\")\n",
    "elif Month == 3:\n",
    "    print(\"March 31 days\")\n",
    "elif Month == 4:\n",
    "    print(\"April 30 days\")\n",
    "elif Month == 5:\n",
    "    print(\"May 31 days\")\n",
    "elif Month == 6:\n",
    "    print(\"June 30 days\")\n",
    "elif Month == 7:\n",
    "    print(\"July 31 days\")\n",
    "elif Month == 8:\n",
    "    print(\"August 31 days\")\n",
    "elif Month == 9:\n",
    "    print(\"September 30 days\")\n",
    "elif Month == 10:\n",
    "    print(\"October 31 days\")\n",
    "elif Month == 11:\n",
    "    print(\"November 30 days\")\n",
    "elif Month == 12:\n",
    "    print(\"December 31 days\")\n",
    "else:\n",
    "print(\"Please enter number between 1 to 12\")"
   ]
  }
 ],
 "metadata": {
  "kernelspec": {
   "display_name": "Python 3",
   "language": "python",
   "name": "python3"
  },
  "language_info": {
   "codemirror_mode": {
    "name": "ipython",
    "version": 3
   },
   "file_extension": ".py",
   "mimetype": "text/x-python",
   "name": "python",
   "nbconvert_exporter": "python",
   "pygments_lexer": "ipython3",
   "version": "3.8.5"
  }
 },
 "nbformat": 4,
 "nbformat_minor": 4
}
