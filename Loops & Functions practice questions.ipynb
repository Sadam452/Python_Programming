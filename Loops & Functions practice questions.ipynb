{
 "cells": [
  {
   "cell_type": "markdown",
   "metadata": {},
   "source": [
    "<b><mark>Various programs to demonstrate working of loops, & functions</mark></b>"
   ]
  },
  {
   "cell_type": "code",
   "execution_count": 2,
   "metadata": {},
   "outputs": [
    {
     "name": "stdout",
     "output_type": "stream",
     "text": [
      "Hi, please enter any string to count number of 'e' in string.how are you? Please inform all the students to enroll in the shared course.\n",
      "Number of 'e' in how are you? Please inform all the students to enroll in the shared course.  are : 9\n"
     ]
    }
   ],
   "source": [
    "#Python program to count number of 'e' in given string\n",
    "ecount = 0\n",
    "str1 = input(\"Hi, please enter any string to count number of 'e' in string.\")\n",
    "for i in str1:\n",
    "    if i=='e':\n",
    "        ecount +=1\n",
    "print(\"Number of 'e' in\",str1,\" are :\",ecount)\n",
    "    "
   ]
  },
  {
   "cell_type": "markdown",
   "metadata": {},
   "source": [
    "<b>Usage of continue & break with loops</b>"
   ]
  },
  {
   "cell_type": "code",
   "execution_count": 10,
   "metadata": {},
   "outputs": [
    {
     "name": "stdout",
     "output_type": "stream",
     "text": [
      "1 3 5 7 9 11 13 15 17 19 21 23 25 27 29 31 33 35 37 39 41 43 45 47 49 51 53 55 57 59 61 63 65 67 69 71 73 75 77 79 81 83 85 87 89 91 93 95 97 99 "
     ]
    }
   ],
   "source": [
    "num = 100\n",
    "i=0\n",
    "while i<num:\n",
    "    i +=1\n",
    "    if i%2 == 0:\n",
    "        continue\n",
    "    else:\n",
    "        print(i,end=\" \")"
   ]
  },
  {
   "cell_type": "markdown",
   "metadata": {},
   "source": [
    "<b><i><mark>Usage of break and random class in python.</mark></i></b>"
   ]
  },
  {
   "cell_type": "code",
   "execution_count": 76,
   "metadata": {},
   "outputs": [
    {
     "name": "stdout",
     "output_type": "stream",
     "text": [
      "Sorry 10 has been generated, i am terminating the loop. I am only printing list until 10 was generated.\n",
      "[25, 41, 99, 92]\n"
     ]
    }
   ],
   "source": [
    "import random\n",
    "list1 = []\n",
    "for i in range(1,11):\n",
    "    x = random.randint(1,100)\n",
    "    if x == 100:\n",
    "        print(\"Sorry 10 has been generated, i am terminating the loop. I am only printing list until 10 was generated.\")\n",
    "        break\n",
    "    list1.append(x)\n",
    "print(list1)"
   ]
  },
  {
   "cell_type": "markdown",
   "metadata": {},
   "source": [
    "<h5>Functions</h5>"
   ]
  },
  {
   "cell_type": "code",
   "execution_count": 78,
   "metadata": {},
   "outputs": [
    {
     "data": {
      "text/plain": [
       "71"
      ]
     },
     "execution_count": 78,
     "metadata": {},
     "output_type": "execute_result"
    }
   ],
   "source": [
    "def genRandom(x):\n",
    "    result = random.randint(1,x)\n",
    "    return result\n",
    "#Generate a random number in range 1 to x\n",
    "genRandom(100)"
   ]
  }
 ],
 "metadata": {
  "kernelspec": {
   "display_name": "Python 3",
   "language": "python",
   "name": "python3"
  },
  "language_info": {
   "codemirror_mode": {
    "name": "ipython",
    "version": 3
   },
   "file_extension": ".py",
   "mimetype": "text/x-python",
   "name": "python",
   "nbconvert_exporter": "python",
   "pygments_lexer": "ipython3",
   "version": "3.8.5"
  }
 },
 "nbformat": 4,
 "nbformat_minor": 4
}
