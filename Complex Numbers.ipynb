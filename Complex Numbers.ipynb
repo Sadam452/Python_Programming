{
 "cells": [
  {
   "cell_type": "markdown",
   "metadata": {},
   "source": [
    "<b><i>Working With complex numbers in python</i></b>"
   ]
  },
  {
   "cell_type": "code",
   "execution_count": 6,
   "metadata": {},
   "outputs": [
    {
     "name": "stdout",
     "output_type": "stream",
     "text": [
      "Real part =  10.0\n",
      "Imaginary part =  6.0\n",
      "Complex Number =  (10+6j)\n"
     ]
    }
   ],
   "source": [
    "import cmath #import cmath package \n",
    "x,y = (10,6)\n",
    "z = complex(x,y)\n",
    "print(\"Real part = \",z.real)\n",
    "print(\"Imaginary part = \",z.imag)\n",
    "print(\"Complex Number = \",z)"
   ]
  },
  {
   "cell_type": "code",
   "execution_count": 9,
   "metadata": {},
   "outputs": [
    {
     "data": {
      "text/plain": [
       "(20+12j)"
      ]
     },
     "execution_count": 9,
     "metadata": {},
     "output_type": "execute_result"
    }
   ],
   "source": [
    "z2 = z*2 #multiplication\n",
    "z2"
   ]
  },
  {
   "cell_type": "code",
   "execution_count": 12,
   "metadata": {},
   "outputs": [
    {
     "name": "stdout",
     "output_type": "stream",
     "text": [
      "(14+6j)\n",
      "(9+6j)\n",
      "(5+3j)\n"
     ]
    }
   ],
   "source": [
    "#Multiplication & Division is performed with both real and imaginary parts.\n",
    "#Whereas Addition & Subtraction is performed with real part only.\n",
    "z3 = z+4 #addition\n",
    "print(z3)\n",
    "z3 = z-1 #subtraction\n",
    "print(z3)\n",
    "z3 = z/2 #division\n",
    "print(z3)"
   ]
  },
  {
   "cell_type": "code",
   "execution_count": 16,
   "metadata": {},
   "outputs": [
    {
     "name": "stdout",
     "output_type": "stream",
     "text": [
      "(6+11j)\n",
      "(16+11j)\n",
      "Phase of z is: 0.5404195002705842\n"
     ]
    }
   ],
   "source": [
    "u,v =(6,11)\n",
    "w = complex(u,v)\n",
    "print(w)\n",
    "print(w+x)\n",
    "print (\"Phase of z is:\",cmath.phase(z))"
   ]
  },
  {
   "cell_type": "code",
   "execution_count": 22,
   "metadata": {},
   "outputs": [
    {
     "name": "stdout",
     "output_type": "stream",
     "text": [
      "(11.661903789690601, 0.5404195002705842)\n",
      "(10+6.000000000000001j)\n"
     ]
    }
   ],
   "source": [
    "a = cmath.polar(z) #polar form\n",
    "print(a)\n",
    "b = cmath.rect(11.661903789690601, 0.5404195002705842)#rectangle form\n",
    "print(b)"
   ]
  }
 ],
 "metadata": {
  "kernelspec": {
   "display_name": "Python 3",
   "language": "python",
   "name": "python3"
  },
  "language_info": {
   "codemirror_mode": {
    "name": "ipython",
    "version": 3
   },
   "file_extension": ".py",
   "mimetype": "text/x-python",
   "name": "python",
   "nbconvert_exporter": "python",
   "pygments_lexer": "ipython3",
   "version": "3.8.5"
  }
 },
 "nbformat": 4,
 "nbformat_minor": 4
}
