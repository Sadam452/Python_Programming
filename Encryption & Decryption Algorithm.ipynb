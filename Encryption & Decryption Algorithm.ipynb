{
 "cells": [
  {
   "cell_type": "code",
   "execution_count": 12,
   "metadata": {},
   "outputs": [
    {
     "name": "stdout",
     "output_type": "stream",
     "text": [
      "Please enter your message :can we have a meeting tommorow?\n",
      "jhudlohclhtllapunavttvyvd"
     ]
    }
   ],
   "source": [
    "#Implementing simple encryption algorithm using python\n",
    "user_msg = input(\"Please enter your message :\")\n",
    "letters = ['a','b','c','d','e','f','g','h','i','j','k','l','m','n','o','p','q','r','s','t','u','v','w','x','y','z']\n",
    "mapping_ntod = {0:'a',1:'b',2:'c',3:'d',4:'e',5:'f',6:'g',7:'h',8:'i',9:'j',10:'k',11:'l',12:'m',13:'n',14:'o',15:'p',16:'q',17:'r',18:'s',19:'t',20:'u',21:'v',22:'w',23:'x',24:'y',25:'z'}\n",
    "mapping_dton = {'a':0,'b':1,'c':2,'d':3,'e':4,'f':5,'g':6,'h':7,'i':8,'j':9,'k':10,'l':11,'m':12,'n':13,'o':14,'p':15,'q':16,'r':17,'s':18,'t':19,'u':20,'v':21,'w':22,'x':23,'y':24,'z':25}\n",
    "enc_msg=[]\n",
    "user_msg1 = user_msg.lower();\n",
    "for i in range(0,len(user_msg1)):\n",
    "    if(user_msg1[i] in letters):\n",
    "        if (mapping_dton[user_msg1[i]]+7)<25:\n",
    "            tmp = (mapping_dton[user_msg1[i]]+7)\n",
    "        else:\n",
    "            tmp = (mapping_dton[user_msg1[i]]+7)%26\n",
    "        enc_msg.append(mapping_ntod[tmp])\n",
    "    #else:\n",
    "        #enc_msg.append(user_msg1[i]) #to include special characters also\n",
    "for j in enc_msg:\n",
    "    print(j,end='')"
   ]
  },
  {
   "cell_type": "code",
   "execution_count": 14,
   "metadata": {},
   "outputs": [
    {
     "name": "stdout",
     "output_type": "stream",
     "text": [
      "canwehaveameetingtommorow"
     ]
    }
   ],
   "source": [
    "#Decryption Algorithm\n",
    "dec_msg=[]\n",
    "for i in range(0,len(enc_msg)):\n",
    "    if (mapping_dton[enc_msg[i]]-7)>=0:\n",
    "        tmp1 = (mapping_dton[enc_msg[i]]-7)\n",
    "    else:\n",
    "        tmp1 = (mapping_dton[enc_msg[i]]-7)+26\n",
    "    dec_msg.append(mapping_ntod[tmp1])\n",
    "for k in dec_msg:\n",
    "    print(k,end='')"
   ]
  }
 ],
 "metadata": {
  "kernelspec": {
   "display_name": "Python 3",
   "language": "python",
   "name": "python3"
  },
  "language_info": {
   "codemirror_mode": {
    "name": "ipython",
    "version": 3
   },
   "file_extension": ".py",
   "mimetype": "text/x-python",
   "name": "python",
   "nbconvert_exporter": "python",
   "pygments_lexer": "ipython3",
   "version": "3.8.5"
  }
 },
 "nbformat": 4,
 "nbformat_minor": 4
}
