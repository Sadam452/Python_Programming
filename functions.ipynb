{
 "cells": [
  {
   "cell_type": "markdown",
   "metadata": {},
   "source": [
    "#Demonstration of Functions in Python"
   ]
  },
  {
   "cell_type": "code",
   "execution_count": 2,
   "metadata": {},
   "outputs": [],
   "source": [
    "def square(num):\n",
    "    return num*num"
   ]
  },
  {
   "cell_type": "code",
   "execution_count": 3,
   "metadata": {},
   "outputs": [
    {
     "data": {
      "text/plain": [
       "100"
      ]
     },
     "execution_count": 3,
     "metadata": {},
     "output_type": "execute_result"
    }
   ],
   "source": [
    "square(10)"
   ]
  },
  {
   "cell_type": "code",
   "execution_count": 4,
   "metadata": {},
   "outputs": [
    {
     "name": "stdout",
     "output_type": "stream",
     "text": [
      "Please Enter Any Number:23\n",
      "Square of  23  is 529\n"
     ]
    }
   ],
   "source": [
    "x = int(input(\"Please Enter Any Number:\"))\n",
    "print(\"Square of \",x,\" is\",square(x))"
   ]
  },
  {
   "cell_type": "code",
   "execution_count": 5,
   "metadata": {},
   "outputs": [
    {
     "name": "stdout",
     "output_type": "stream",
     "text": [
      "0 1 2 3 4 "
     ]
    }
   ],
   "source": [
    "def series(x):\n",
    "    for i in range(x):\n",
    "        print(i,end=\" \")\n",
    "series(5)"
   ]
  },
  {
   "cell_type": "markdown",
   "metadata": {},
   "source": [
    "<a href=\"https://pypi.org/project/colorama/\">For Colorama Related Details, CLICK me</a>"
   ]
  },
  {
   "cell_type": "code",
   "execution_count": 17,
   "metadata": {},
   "outputs": [
    {
     "name": "stdout",
     "output_type": "stream",
     "text": [
      "\u001b[2mand in dim text\n",
      "\u001b[31mThis text is RED in color\n",
      "\u001b[34mThis text is BLUE in color\n",
      "\u001b[42mBack with green color\n",
      "\u001b[36mCyan color text\n"
     ]
    }
   ],
   "source": [
    "#COLORED TEXT IN PYTHON\n",
    "import colorama\n",
    "from colorama import Fore, Back, Style\n",
    "print(Style.DIM + 'and in dim text')\n",
    "print(Fore.RED + 'This text is RED in color')\n",
    "print(Fore.BLUE + 'This text is BLUE in color')\n",
    "print(Back.GREEN + 'Back with green color')\n",
    "print(Fore.CYAN + 'Cyan color text')\n"
   ]
  },
  {
   "cell_type": "markdown",
   "metadata": {},
   "source": [
    "<html>\n",
    "<head>\n",
    "    <style>\n",
    "    p{\n",
    "        color: red;\n",
    "    }\n",
    "    </style>\n",
    "</head>\n",
    "<body>\n",
    "    <p>Trying to write code in HTML language.</p>\n",
    "    <h1>Python Functions</h1>\n",
    "    <mark>By Sadam</mark>\n",
    "    <i>Sub topic: HTML coding</i>\n",
    "    <address>&copy; Sadam 2022-2022</address>\n",
    "</body>\n",
    "</html>"
   ]
  }
 ],
 "metadata": {
  "kernelspec": {
   "display_name": "Python 3",
   "language": "python",
   "name": "python3"
  },
  "language_info": {
   "codemirror_mode": {
    "name": "ipython",
    "version": 3
   },
   "file_extension": ".py",
   "mimetype": "text/x-python",
   "name": "python",
   "nbconvert_exporter": "python",
   "pygments_lexer": "ipython3",
   "version": "3.8.5"
  }
 },
 "nbformat": 4,
 "nbformat_minor": 4
}
