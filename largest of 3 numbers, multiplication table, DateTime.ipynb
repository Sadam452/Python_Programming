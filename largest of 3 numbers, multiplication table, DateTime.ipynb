{
 "cells": [
  {
   "cell_type": "markdown",
   "metadata": {},
   "source": [
    "<h4>Python program to return largest of three numbers</h4>"
   ]
  },
  {
   "cell_type": "code",
   "execution_count": 2,
   "metadata": {},
   "outputs": [],
   "source": [
    "def largest3(x,y,z):\n",
    "    if x>y and x>z:\n",
    "        return x\n",
    "    elif y>x and y>z:\n",
    "        return y\n",
    "    else:\n",
    "        return z"
   ]
  },
  {
   "cell_type": "code",
   "execution_count": 4,
   "metadata": {},
   "outputs": [
    {
     "name": "stdout",
     "output_type": "stream",
     "text": [
      "Enter first number :34\n",
      "Enter second number :56\n",
      "Enter third number :2\n",
      "Largest among these 3 numbers is : 56\n"
     ]
    }
   ],
   "source": [
    "x = int(input(\"Enter first number :\"))\n",
    "y = int(input(\"Enter second number :\"))\n",
    "z = int(input(\"Enter third number :\"))\n",
    "print(\"Largest among these 3 numbers is :\",largest3(x,y,z))"
   ]
  },
  {
   "cell_type": "markdown",
   "metadata": {},
   "source": [
    "<h4>Python program for generating multiplication table of entered number</h4>"
   ]
  },
  {
   "cell_type": "code",
   "execution_count": 8,
   "metadata": {},
   "outputs": [
    {
     "name": "stdout",
     "output_type": "stream",
     "text": [
      "Enter any number = 6\n",
      "Range = 20\n",
      "  6 X   1 =   6\n",
      "  6 X   2 =  12\n",
      "  6 X   3 =  18\n",
      "  6 X   4 =  24\n",
      "  6 X   5 =  30\n",
      "  6 X   6 =  36\n",
      "  6 X   7 =  42\n",
      "  6 X   8 =  48\n",
      "  6 X   9 =  54\n",
      "  6 X  10 =  60\n",
      "  6 X  11 =  66\n",
      "  6 X  12 =  72\n",
      "  6 X  13 =  78\n",
      "  6 X  14 =  84\n",
      "  6 X  15 =  90\n",
      "  6 X  16 =  96\n",
      "  6 X  17 = 102\n",
      "  6 X  18 = 108\n",
      "  6 X  19 = 114\n",
      "  6 X  20 = 120\n"
     ]
    }
   ],
   "source": [
    "num = int(input(\"Enter any number = \"))\n",
    "ran = int(input(\"Range = \"))\n",
    "for i in range(1,ran+1):\n",
    "    print(\"%3d X %3d = %3d\"%(num,i,num*i))"
   ]
  },
  {
   "cell_type": "markdown",
   "metadata": {},
   "source": [
    "<h5><mark>Python program to get current date and time</mark></h5>"
   ]
  },
  {
   "cell_type": "code",
   "execution_count": 10,
   "metadata": {},
   "outputs": [
    {
     "name": "stdout",
     "output_type": "stream",
     "text": [
      "2022-02-09\n"
     ]
    }
   ],
   "source": [
    "from datetime import date\n",
    "today = date.today()\n",
    "print(today)"
   ]
  },
  {
   "cell_type": "code",
   "execution_count": 16,
   "metadata": {},
   "outputs": [
    {
     "name": "stdout",
     "output_type": "stream",
     "text": [
      "Date = February 09, 2022  Time = 14:37:19\n"
     ]
    }
   ],
   "source": [
    "from datetime import datetime\n",
    "today = datetime.now()\n",
    "tmp = today.strftime(\"Date = %B %d, %Y  Time = %H:%M:%S\")\n",
    "print(tmp)"
   ]
  }
 ],
 "metadata": {
  "kernelspec": {
   "display_name": "Python 3",
   "language": "python",
   "name": "python3"
  },
  "language_info": {
   "codemirror_mode": {
    "name": "ipython",
    "version": 3
   },
   "file_extension": ".py",
   "mimetype": "text/x-python",
   "name": "python",
   "nbconvert_exporter": "python",
   "pygments_lexer": "ipython3",
   "version": "3.8.5"
  }
 },
 "nbformat": 4,
 "nbformat_minor": 4
}
