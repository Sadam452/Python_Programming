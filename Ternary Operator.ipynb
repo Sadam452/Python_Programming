{
 "cells": [
  {
   "cell_type": "code",
   "execution_count": 17,
   "metadata": {},
   "outputs": [
    {
     "name": "stdout",
     "output_type": "stream",
     "text": [
      "Please Enter Your Name :sadam\n",
      " This is what we got,' sadam '.\n",
      "So Your Name Matches With Mine!\n"
     ]
    }
   ],
   "source": [
    "choice = input(\"Please Enter Your Name :\")\n",
    "print(\" This is what we got,'\",choice,\"'.\")\n",
    "print(\"So Your Name Matches With Mine!\") if choice == \"Sadam\" or choice == \"sadam\" else print(\"So Your Name does't Matches With Mine!\")"
   ]
  },
  {
   "cell_type": "code",
   "execution_count": 22,
   "metadata": {},
   "outputs": [
    {
     "name": "stdout",
     "output_type": "stream",
     "text": [
      "y =-2\n",
      "bye\n"
     ]
    }
   ],
   "source": [
    "x,y = (3,4) #initialize two variables on same line\n",
    "y = int(input(\"y =\"))\n",
    "print(\"hi\") if y>0 else print(\"bye\")"
   ]
  }
 ],
 "metadata": {
  "kernelspec": {
   "display_name": "Python 3",
   "language": "python",
   "name": "python3"
  },
  "language_info": {
   "codemirror_mode": {
    "name": "ipython",
    "version": 3
   },
   "file_extension": ".py",
   "mimetype": "text/x-python",
   "name": "python",
   "nbconvert_exporter": "python",
   "pygments_lexer": "ipython3",
   "version": "3.8.5"
  }
 },
 "nbformat": 4,
 "nbformat_minor": 4
}
